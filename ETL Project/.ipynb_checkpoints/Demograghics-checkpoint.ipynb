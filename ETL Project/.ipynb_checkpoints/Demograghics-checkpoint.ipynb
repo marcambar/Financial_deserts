{
 "cells": [
  {
   "cell_type": "markdown",
   "metadata": {},
   "source": [
    "## Load Data"
   ]
  },
  {
   "cell_type": "code",
   "execution_count": 1,
   "metadata": {},
   "outputs": [],
   "source": [
    "# Dependencies and Setup\n",
    "import pandas as pd\n",
    "import numpy as np\n",
    "import warnings\n",
    "warnings.filterwarnings('ignore')\n",
    "\n",
    "# Files to Load \n",
    "race = \"Race.csv\"\n",
    "educ = \"Education_age_Sex.csv\"\n",
    "social = \"Social_characteristics.csv\"\n",
    "income = \"Household_Income_Details.csv\"\n",
    "hispanic = \"Hispanic_Population.csv\"\n",
    "gender = \"Population_age_sex.csv\"\n",
    "\n",
    "# Read Data\n",
    "df_race = pd.read_csv(race, encoding=\"ISO-8859-1\")\n",
    "df_educ = pd.read_csv(educ, encoding=\"ISO-8859-1\")\n",
    "df_social = pd.read_csv(social, encoding=\"ISO-8859-1\")\n",
    "df_income = pd.read_csv(income, encoding=\"ISO-8859-1\")\n",
    "df_hispanic = pd.read_csv(hispanic, encoding=\"ISO-8859-1\")\n",
    "df_gender = pd.read_csv(gender, encoding=\"ISO-8859-1\")\n",
    "\n",
    "# Drop Column Labels\n",
    "df_race.drop(0, inplace=True)\n",
    "df_educ.drop(0, inplace=True)\n",
    "df_social.drop(0, inplace=True)\n",
    "df_income.drop(0, inplace=True)\n",
    "df_hispanic.drop(0, inplace=True)\n",
    "df_gender.drop(0, inplace=True)\n",
    "\n",
    "#df_race.head()\n",
    "#df_educ.head()\n",
    "#df_social.head()\n",
    "#df_income.head()\n",
    "#df_hispanic.head()"
   ]
  },
  {
   "cell_type": "markdown",
   "metadata": {},
   "source": [
    "## Clean Data"
   ]
  },
  {
   "cell_type": "markdown",
   "metadata": {},
   "source": [
    "### 1) Education"
   ]
  },
  {
   "cell_type": "code",
   "execution_count": 2,
   "metadata": {},
   "outputs": [],
   "source": [
    "# Keep Selected Columns for Education Series\n",
    "df_keep_educ = df_educ[['GEO.id','GEO.id2','GEO.display-label',\n",
    "                        'HC01_EST_VC02','HC01_EST_VC03','HC01_EST_VC04',\n",
    "                        'HC01_EST_VC05','HC01_EST_VC06','HC01_EST_VC08',\n",
    "                        'HC01_EST_VC09','HC01_EST_VC10','HC01_EST_VC11',\n",
    "                        'HC01_EST_VC12','HC01_EST_VC13','HC01_EST_VC14',\n",
    "                        'HC01_EST_VC15','HC01_EST_VC42','HC01_EST_VC43',\n",
    "                        'HC01_EST_VC46','HC01_EST_VC47','HC01_EST_VC50',\n",
    "                        'HC01_EST_VC51','HC01_EST_VC54','HC01_EST_VC55',\n",
    "                        'HC01_EST_VC70','HC01_EST_VC71']]\n",
    "\n",
    "# Rename columns\n",
    "df_keep_educ.rename(columns={'GEO.id': 'GEO_id', \n",
    "                             'GEO.id2': 'GEO_id2', \n",
    "                             'GEO.display-label': 'GEO_label',\n",
    "                             'HC01_EST_VC02': 'pop_1824',\n",
    "                             'HC01_EST_VC03': 'edu_1824_lessthan_high_school',\n",
    "                             'HC01_EST_VC04': 'edu_1824_high_school',\n",
    "                             'HC01_EST_VC05': 'edu_1824_some_college',\n",
    "                             'HC01_EST_VC06': 'edu_1824_bachelor',\n",
    "                             'HC01_EST_VC08': 'pop_25',\n",
    "                             'HC01_EST_VC09': 'edu_25_lessthan9thgrade',\n",
    "                             'HC01_EST_VC10': 'edu_25_high_school_no_diploma',\n",
    "                             'HC01_EST_VC11': 'edu_25_high_school',\n",
    "                             'HC01_EST_VC12': 'edu_25_some_college',\n",
    "                             'HC01_EST_VC13': 'edu_25_associate',\n",
    "                             'HC01_EST_VC14': 'edu_25_bachelor',\n",
    "                             'HC01_EST_VC15': 'edu_25_grad_school',\n",
    "                             'HC01_EST_VC42': 'edu_white_high_school',\n",
    "                             'HC01_EST_VC43': 'edu_white_bachelor',\n",
    "                             'HC01_EST_VC46': 'edu_black_high_school',\n",
    "                             'HC01_EST_VC47': 'edu_black_bachelor',\n",
    "                             'HC01_EST_VC50': 'edu_native_high_school',\n",
    "                             'HC01_EST_VC51': 'edu_native_bachelor',\n",
    "                             'HC01_EST_VC54': 'edu_asian_high_school',\n",
    "                             'HC01_EST_VC55': 'edu_asian_bachelor',\n",
    "                             'HC01_EST_VC70': 'edu_hispanic_high_school',\n",
    "                             'HC01_EST_VC71': 'edu_hispanic_bachelor'}, inplace=True)\n",
    "\n",
    "#df_keep_educ.head()"
   ]
  },
  {
   "cell_type": "markdown",
   "metadata": {},
   "source": [
    "### 2) Race"
   ]
  },
  {
   "cell_type": "code",
   "execution_count": 3,
   "metadata": {},
   "outputs": [],
   "source": [
    "# Keep Selected Columns for Race Series\n",
    "df_keep_race = df_race[['GEO.id','GEO.id2','GEO.display-label',\n",
    "                        'HD01_VD03','HD01_VD04','HD01_VD05',\n",
    "                        'HD01_VD06','HD01_VD07','HD01_VD08']]\n",
    "\n",
    "# Rename columns\n",
    "df_keep_race.rename(columns={'GEO.id': 'GEO_id', \n",
    "                             'GEO.id2': 'GEO_id2', \n",
    "                             'GEO.display-label': 'GEO_label',\n",
    "                             'HD01_VD03': 'pop_white',\n",
    "                             'HD01_VD04': 'pop_black',\n",
    "                             'HD01_VD05': 'pop_native',\n",
    "                             'HD01_VD06': 'pop_asian',\n",
    "                             'HD01_VD07': 'pop_pacific',\n",
    "                             'HD01_VD08': 'pop_other'}, inplace=True)\n",
    "\n",
    "#df_keep_race.head()"
   ]
  },
  {
   "cell_type": "markdown",
   "metadata": {},
   "source": [
    "### 3) Hispanic"
   ]
  },
  {
   "cell_type": "code",
   "execution_count": 4,
   "metadata": {},
   "outputs": [],
   "source": [
    "# Keep Selected Columns for Hispanic Population\n",
    "df_keep_hispanic = df_hispanic[['GEO.id','GEO.id2','GEO.display-label',\n",
    "                                'HD01_VD01','HD01_VD02','HD01_VD12']]\n",
    "\n",
    "# Rename columns\n",
    "df_keep_hispanic.rename(columns={'GEO.id': 'GEO_id', \n",
    "                             'GEO.id2': 'GEO_id2', \n",
    "                             'GEO.display-label': 'GEO_label',\n",
    "                             'HD01_VD01': 'pop_total',\n",
    "                             'HD01_VD02': 'pop_not_hispanic',\n",
    "                             'HD01_VD12': 'pop_hispanic'}, inplace=True)\n",
    "\n",
    "#df_keep_hispanic.head()"
   ]
  },
  {
   "cell_type": "markdown",
   "metadata": {},
   "source": [
    "### 3) Gender"
   ]
  },
  {
   "cell_type": "code",
   "execution_count": 5,
   "metadata": {},
   "outputs": [],
   "source": [
    "# Keep Selected Columns for Gender & Age Series\n",
    "df_keep_gender = df_gender[['GEO.id','GEO.id2','GEO.display-label',\n",
    "                            'HD01_VD06','HD01_VD25']]\n",
    "\n",
    "# Rename columns\n",
    "df_keep_gender.rename(columns={'GEO.id': 'GEO_id', \n",
    "                             'GEO.id2': 'GEO_id2', \n",
    "                             'GEO.display-label': 'GEO_label',\n",
    "                             'HD01_VD06': 'pop_male',\n",
    "                             'HD01_VD25': 'pop_female'}, inplace=True)\n",
    "\n",
    "#df_keep_gender.head()      "
   ]
  },
  {
   "cell_type": "markdown",
   "metadata": {},
   "source": [
    "### 4) Merge Race & Gender"
   ]
  },
  {
   "cell_type": "code",
   "execution_count": 6,
   "metadata": {},
   "outputs": [],
   "source": [
    "# Merge Race & Gender\n",
    "df_keep_pop = pd.merge(df_keep_race, df_keep_hispanic, how='left', on=('GEO_id','GEO_id2','GEO_label'))\n",
    "df_keep_pop = pd.merge(df_keep_pop, df_keep_gender, how='left', on=('GEO_id','GEO_id2','GEO_label'))\n",
    "\n",
    "#df_keep_pop.head()"
   ]
  },
  {
   "cell_type": "markdown",
   "metadata": {},
   "source": [
    "### 5) Computer & Internet Access"
   ]
  },
  {
   "cell_type": "code",
   "execution_count": 7,
   "metadata": {},
   "outputs": [],
   "source": [
    "# Keep Selected Columns for COMPUTERS AND INTERNET USE\n",
    "df_keep_social = df_social[['GEO.id','GEO.id2','GEO.display-label',\n",
    "                            'HC01_VC216','HC03_VC216','HC01_VC217',\n",
    "                            'HC03_VC217','HC01_VC218','HC03_VC218']]\n",
    "\n",
    "# Rename columns\n",
    "df_keep_social.rename(columns={'GEO.id': 'GEO_id', \n",
    "                             'GEO.id2': 'GEO_id2', \n",
    "                             'GEO.display-label': 'GEO_label',\n",
    "                             'HC01_VC216': 'hh_access',\n",
    "                             'HC03_VC216': 'hh_access_pct',\n",
    "                             'HC01_VC217': 'hh_computer',\n",
    "                             'HC03_VC217': 'hh_computer_pct',\n",
    "                             'HC01_VC218': 'hh_broadband',\n",
    "                             'HC03_VC218': 'hh_broadband_pct'}, inplace=True)\n",
    "\n",
    "#df_keep_social.head()"
   ]
  },
  {
   "cell_type": "markdown",
   "metadata": {},
   "source": [
    "### 6) Household Income Breakdown"
   ]
  },
  {
   "cell_type": "code",
   "execution_count": 8,
   "metadata": {},
   "outputs": [],
   "source": [
    "# Keep Selected Columns for Household Income Breadown\n",
    "df_keep_income = df_income[['GEO.id','GEO.id2','GEO.display-label',\n",
    "                            'HC01_EST_VC02','HC01_EST_VC03','HC01_EST_VC04',\n",
    "                            'HC01_EST_VC05','HC01_EST_VC06','HC01_EST_VC07',\n",
    "                            'HC01_EST_VC08','HC01_EST_VC09','HC01_EST_VC10',\n",
    "                            'HC01_EST_VC11','HC01_EST_VC13','HC01_EST_VC15']]\n",
    "\n",
    "# Rename columns\n",
    "df_keep_income.rename(columns={'GEO.id': 'GEO_id', \n",
    "                             'GEO.id2': 'GEO_id2', \n",
    "                             'GEO.display-label': 'GEO_label',\n",
    "                             'HC01_EST_VC02': 'hh_inc_less10k',\n",
    "                             'HC01_EST_VC03': 'hh_inc_10_14k',\n",
    "                             'HC01_EST_VC04': 'hh_inc_15_24k',\n",
    "                             'HC01_EST_VC05': 'hh_inc_25_34k',\n",
    "                             'HC01_EST_VC06': 'hh_inc_35_49k',\n",
    "                             'HC01_EST_VC07': 'hh_inc_50_74k',\n",
    "                             'HC01_EST_VC08': 'hh_inc_75_99k',\n",
    "                             'HC01_EST_VC09': 'hh_inc_100_149k',\n",
    "                             'HC01_EST_VC10': 'hh_inc_150_199k',\n",
    "                             'HC01_EST_VC11': 'hh_inc_200k',\n",
    "                             'HC01_EST_VC13': 'hh_inc_median',\n",
    "                             'HC01_EST_VC15': 'hh_inc_mean'}, inplace=True)\n",
    "\n",
    "#df_keep_income.head()"
   ]
  },
  {
   "cell_type": "markdown",
   "metadata": {},
   "source": [
    "## Inspect Data"
   ]
  },
  {
   "cell_type": "code",
   "execution_count": 9,
   "metadata": {},
   "outputs": [
    {
     "data": {
      "text/plain": [
       "3142"
      ]
     },
     "execution_count": 9,
     "metadata": {},
     "output_type": "execute_result"
    }
   ],
   "source": [
    "# Count number of counties in education data frame\n",
    "len(df_keep_educ['GEO_label'].unique())"
   ]
  },
  {
   "cell_type": "code",
   "execution_count": 10,
   "metadata": {},
   "outputs": [
    {
     "data": {
      "text/plain": [
       "3142"
      ]
     },
     "execution_count": 10,
     "metadata": {},
     "output_type": "execute_result"
    }
   ],
   "source": [
    "# Count number of counties in race data frame\n",
    "len(df_keep_race['GEO_label'].unique())"
   ]
  },
  {
   "cell_type": "code",
   "execution_count": 11,
   "metadata": {},
   "outputs": [
    {
     "data": {
      "text/plain": [
       "3142"
      ]
     },
     "execution_count": 11,
     "metadata": {},
     "output_type": "execute_result"
    }
   ],
   "source": [
    "# Count number of counties in race data frame\n",
    "len(df_keep_hispanic['GEO_label'].unique())"
   ]
  },
  {
   "cell_type": "code",
   "execution_count": 12,
   "metadata": {},
   "outputs": [
    {
     "data": {
      "text/plain": [
       "3142"
      ]
     },
     "execution_count": 12,
     "metadata": {},
     "output_type": "execute_result"
    }
   ],
   "source": [
    "# Count number of counties in race data frame\n",
    "len(df_keep_gender['GEO_label'].unique())"
   ]
  },
  {
   "cell_type": "code",
   "execution_count": 13,
   "metadata": {},
   "outputs": [
    {
     "data": {
      "text/plain": [
       "3142"
      ]
     },
     "execution_count": 13,
     "metadata": {},
     "output_type": "execute_result"
    }
   ],
   "source": [
    "# Count number of counties in race data frame\n",
    "len(df_keep_pop['GEO_label'].unique())"
   ]
  },
  {
   "cell_type": "code",
   "execution_count": 14,
   "metadata": {},
   "outputs": [
    {
     "data": {
      "text/plain": [
       "3142"
      ]
     },
     "execution_count": 14,
     "metadata": {},
     "output_type": "execute_result"
    }
   ],
   "source": [
    "# Count number of counties in computer & internet data frame\n",
    "len(df_keep_social['GEO_label'].unique())"
   ]
  },
  {
   "cell_type": "code",
   "execution_count": 15,
   "metadata": {},
   "outputs": [
    {
     "data": {
      "text/plain": [
       "3142"
      ]
     },
     "execution_count": 15,
     "metadata": {},
     "output_type": "execute_result"
    }
   ],
   "source": [
    "# Count number of counties in income data frame\n",
    "len(df_keep_income['GEO_label'].unique())"
   ]
  },
  {
   "cell_type": "code",
   "execution_count": 16,
   "metadata": {},
   "outputs": [],
   "source": [
    "# Percentage of missing values for each column\n",
    "#df_keep_race.isnull().mean().round(4) * 100"
   ]
  },
  {
   "cell_type": "markdown",
   "metadata": {},
   "source": [
    "## Export to CSV"
   ]
  },
  {
   "cell_type": "code",
   "execution_count": null,
   "metadata": {},
   "outputs": [],
   "source": [
    "df_keep_educ.to_csv(\"1_Eductation.csv\", index=False)\n",
    "df_keep_pop.to_csv(\"2_Population.csv\", index=False)"
   ]
  }
 ],
 "metadata": {
  "kernelspec": {
   "display_name": "Python 3",
   "language": "python",
   "name": "python3"
  },
  "language_info": {
   "codemirror_mode": {
    "name": "ipython",
    "version": 3
   },
   "file_extension": ".py",
   "mimetype": "text/x-python",
   "name": "python",
   "nbconvert_exporter": "python",
   "pygments_lexer": "ipython3",
   "version": "3.7.3"
  }
 },
 "nbformat": 4,
 "nbformat_minor": 2
}
